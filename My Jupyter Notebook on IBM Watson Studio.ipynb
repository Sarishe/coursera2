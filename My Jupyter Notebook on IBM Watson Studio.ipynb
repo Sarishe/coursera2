{
 "cells": [
  {
   "cell_type": "markdown",
   "metadata": {
    "collapsed": true
   },
   "source": [
    "# My Jupyter Notebook on IBM Watson Studio"
   ]
  },
  {
   "cell_type": "markdown",
   "metadata": {},
   "source": [
    "### Iuliia Kiiko\n",
    "\n",
    "Current occupation: going through Coursera courses"
   ]
  },
  {
   "cell_type": "markdown",
   "metadata": {},
   "source": [
    "*I am interested in Data Science because I adore the ability to predict and foresee events.*"
   ]
  },
  {
   "cell_type": "markdown",
   "metadata": {},
   "source": [
    "### The following code prints items from the list one by one"
   ]
  },
  {
   "cell_type": "code",
   "execution_count": 1,
   "metadata": {},
   "outputs": [
    {
     "name": "stdout",
     "output_type": "stream",
     "text": [
      "dog\n",
      "cat\n",
      "pineapple\n",
      "bear\n",
      "fox\n",
      "beaver\n"
     ]
    }
   ],
   "source": [
    "list = [\"dog\", \"cat\", \"pineapple\", \"bear\", \"fox\", \"beaver\"]\n",
    "for i in list:\n",
    "    print (i)"
   ]
  },
  {
   "cell_type": "markdown",
   "metadata": {},
   "source": [
    "\"This is markdown section\"\n",
    "\n",
    "* bullet point 1\n",
    "* bullet point 2\n",
    "* bullet point 3\n",
    "* bullet point 4\n",
    "\n",
    "First         | Second \n",
    "------------- | -------------\n",
    "        Cell  |         Cell\n",
    "        Cell  |         Cell\n",
    "        Cell  |         Cell\n",
    "        Cell  |         Cell\n",
    "        \n",
    "        \n",
    "        \n",
    "1. one\n",
    "2. two\n",
    "3. three\n",
    "\n",
    "<a href=\"https://www.google.com\">Click to go to Google</a>\n",
    "\n",
    "\n"
   ]
  }
 ],
 "metadata": {
  "kernelspec": {
   "display_name": "Python 3.9",
   "language": "python",
   "name": "python3"
  },
  "language_info": {
   "codemirror_mode": {
    "name": "ipython",
    "version": 3
   },
   "file_extension": ".py",
   "mimetype": "text/x-python",
   "name": "python",
   "nbconvert_exporter": "python",
   "pygments_lexer": "ipython3",
   "version": "3.9.12"
  }
 },
 "nbformat": 4,
 "nbformat_minor": 1
}
